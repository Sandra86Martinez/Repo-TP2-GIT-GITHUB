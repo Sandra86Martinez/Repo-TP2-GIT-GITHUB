{
 "cells": [
  {
   "cell_type": "code",
   "execution_count": 3,
   "id": "298880dd",
   "metadata": {},
   "outputs": [
    {
     "name": "stdout",
     "output_type": "stream",
     "text": [
      "Suma: 15\n",
      "Resta: 5\n",
      "Multiplicación: 50\n",
      "División: 2.0\n"
     ]
    }
   ],
   "source": [
    "# Suma y Resta\n",
    "a = 10\n",
    "b = 5\n",
    "\n",
    "suma = a + b\n",
    "resta = a - b\n",
    "\n",
    "print(\"Suma:\", suma)\n",
    "print(\"Resta:\", resta)\n",
    "\n",
    "# Multiplicación y División\n",
    "multiplicacion = a * b\n",
    "division = a / b\n",
    "\n",
    "print(\"Multiplicación:\", multiplicacion)\n",
    "print(\"División:\", division)"
   ]
  },
  {
   "cell_type": "code",
   "execution_count": null,
   "id": "708d573e",
   "metadata": {},
   "outputs": [],
   "source": []
  }
 ],
 "metadata": {
  "kernelspec": {
   "display_name": "Python 3",
   "language": "python",
   "name": "python3"
  },
  "language_info": {
   "codemirror_mode": {
    "name": "ipython",
    "version": 3
   },
   "file_extension": ".py",
   "mimetype": "text/x-python",
   "name": "python",
   "nbconvert_exporter": "python",
   "pygments_lexer": "ipython3",
   "version": "3.11.9"
  }
 },
 "nbformat": 4,
 "nbformat_minor": 5
}
